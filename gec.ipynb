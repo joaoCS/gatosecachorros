{
 "cells": [
  {
   "cell_type": "code",
   "execution_count": null,
   "metadata": {},
   "outputs": [],
   "source": [
    "import tensorflow as tf\n",
    "print(\"Versão do TensorFlow:\", tf.__version__)"
   ]
  },
  {
   "cell_type": "code",
   "execution_count": null,
   "metadata": {},
   "outputs": [],
   "source": [
    "import keras as K\n",
    "print(\"Versão do Keras:\", K.__version__)"
   ]
  },
  {
   "cell_type": "code",
   "execution_count": 5,
   "metadata": {},
   "outputs": [
    {
     "name": "stdout",
     "output_type": "stream",
     "text": [
      "Found 25000 images belonging to 2 classes.\n",
      "Found 0 images belonging to 0 classes.\n",
      "Epoch 1/5\n",
      "782/782 [==============================] - 474s 604ms/step - loss: 0.6440 - accuracy: 0.6114\n",
      "Epoch 2/5\n",
      "782/782 [==============================] - 814s 1s/step - loss: 0.5265 - accuracy: 0.7338\n",
      "Epoch 3/5\n",
      "782/782 [==============================] - 441s 563ms/step - loss: 0.4798 - accuracy: 0.7725\n",
      "Epoch 4/5\n",
      "782/782 [==============================] - 614s 784ms/step - loss: 0.4514 - accuracy: 0.7833\n",
      "Epoch 5/5\n",
      "782/782 [==============================] - 229s 293ms/step - loss: 0.4293 - accuracy: 0.8003\n",
      "INFO:tensorflow:Assets written to: modelo aprendido\\assets\n"
     ]
    }
   ],
   "source": [
    "# Imports\n",
    "from keras.models import Sequential\n",
    "from keras.layers import Conv2D\n",
    "from keras.layers import MaxPooling2D\n",
    "from keras.layers import Flatten\n",
    "from keras.layers import Dense\n",
    "\n",
    "classifier = Sequential()\n",
    "\n",
    "# Passo 1 - Primeira Camada de Convolução\n",
    "classifier.add(Conv2D(32, (3, 3), input_shape = (64, 64, 3), activation = 'relu'))\n",
    "\n",
    "# Passo 2 - Pooling\n",
    "classifier.add(MaxPooling2D(pool_size = (2, 2)))\n",
    "\n",
    "# Adicionando a Segunda Camada de Convolução\n",
    "classifier.add(Conv2D(32, (3, 3), activation = 'relu'))\n",
    "\n",
    "# Mais uma camada de pooling\n",
    "classifier.add(MaxPooling2D(pool_size = (2, 2)))\n",
    "\n",
    "# Passo 3 - Flattening\n",
    "classifier.add(Flatten())\n",
    "\n",
    "# Passo 4 - Full connection\n",
    "classifier.add(Dense(units = 128, activation = 'relu'))\n",
    "classifier.add(Dense(units = 1, activation = 'sigmoid'))\n",
    "\n",
    "# Compilando a rede\n",
    "classifier.compile(optimizer = 'adam', loss = 'binary_crossentropy', metrics = ['accuracy'])\n",
    "\n",
    "# Criando os objetos train_datagen e validation_datagen com as regras de pré-processamento das imagens\n",
    "from keras.preprocessing.image import ImageDataGenerator\n",
    "\n",
    "train_datagen = ImageDataGenerator(rescale = 1./255,\n",
    "                                   shear_range = 0.2,\n",
    "                                   zoom_range = 0.2,\n",
    "                                   horizontal_flip = True)\n",
    "\n",
    "validation_datagen = ImageDataGenerator(rescale = 1./255)\n",
    "\n",
    "# Pré-processamento das imagens de treino e validação\n",
    "training_set = train_datagen.flow_from_directory('dataset_treino',\n",
    "                                                 target_size = (64, 64),\n",
    "                                                 batch_size = 32,\n",
    "                                                 class_mode = 'binary')\n",
    "\n",
    "validation_set = validation_datagen.flow_from_directory('dataset_teste',\n",
    "                                                        target_size = (64, 64),\n",
    "                                                        batch_size = 32,\n",
    "                                                        class_mode = 'binary')\n",
    "\n",
    "\n",
    "# Executando o treinamento (esse processo pode levar bastante tempo, dependendo do seu computador)\n",
    "\n",
    "\n",
    "\n",
    "classifier.fit(training_set,\n",
    "                         steps_per_epoch = 782,\n",
    "                         epochs = 5,\n",
    "                         validation_data = validation_set,\n",
    "                         validation_steps = 2000)\n",
    "\n",
    "\n",
    "\n",
    "classifier.save('modelo aprendido')\n",
    "\n"
   ]
  },
  {
   "cell_type": "code",
   "execution_count": 3,
   "metadata": {},
   "outputs": [
    {
     "data": {
      "image/jpeg": "[encoded data removed]",
      "text/plain": [
       "<IPython.core.display.Image object>"
      ]
     },
     "execution_count": 3,
     "metadata": {},
     "output_type": "execute_result"
    }
   ],
   "source": [
    "# Primeira Imagem\n",
    "import numpy as np\n",
    "from keras.preprocessing import image\n",
    "from IPython.display import Image\n",
    "from tensorflow import keras\n",
    "\n",
    "classifier = keras.models.load_model('modelo aprendido')\n",
    "\n",
    "test_image = image.load_img('dataset_teste/2216.jpg', target_size = (64, 64))\n",
    "test_image = image.img_to_array(test_image)\n",
    "test_image = np.expand_dims(test_image, axis = 0)\n",
    "result = classifier.predict(test_image)\n",
    "#training_set.class_indices\n",
    "\n",
    "if result[0][0] == 1:\n",
    "    prediction = 'Cachorro'\n",
    "else:\n",
    "    prediction = 'Gato'\n",
    "\n",
    "Image(filename='dataset_teste/2216.jpg')"
   ]
  },
  {
   "cell_type": "code",
   "execution_count": 4,
   "metadata": {},
   "outputs": [
    {
     "data": {
      "text/plain": [
       "'Gato'"
      ]
     },
     "execution_count": 4,
     "metadata": {},
     "output_type": "execute_result"
    }
   ],
   "source": [
    "prediction"
   ]
  },
  {
   "cell_type": "code",
   "execution_count": null,
   "metadata": {},
   "outputs": [],
   "source": [
    "\n",
    "test_image = cv2.imread('trick.png')\n",
    "test_image = cv2.resize(test_image, (64, 64))\n",
    "test_image = test_image[...,::-1] # Added\n",
    "\n",
    "\n",
    "import numpy as np\n",
    "# ...\n",
    "# ...\n",
    "test_image = test_image[...,::-1].astype(np.float32)\n"
   ]
  }
 ],
 "metadata": {
  "kernelspec": {
   "display_name": "Python 3",
   "language": "python",
   "name": "python3"
  },
  "language_info": {
   "codemirror_mode": {
    "name": "ipython",
    "version": 3
   },
   "file_extension": ".py",
   "mimetype": "text/x-python",
   "name": "python",
   "nbconvert_exporter": "python",
   "pygments_lexer": "ipython3",
   "version": "3.8.5"
  }
 },
 "nbformat": 4,
 "nbformat_minor": 4
}
